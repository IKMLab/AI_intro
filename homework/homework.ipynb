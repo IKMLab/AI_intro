{
 "cells": [
  {
   "cell_type": "markdown",
   "metadata": {},
   "source": [
    "# AI 學分班 - 作業\n",
    "\n",
    "本作業使用 [Kaggle Titanic](https://www.kaggle.com/c/titanic/overview) 所提供的資料，根據鐵達尼號乘客資料預測生還者。\n",
    "我們只使用 `train.csv` 進行生還者預測（只有 `train.csv` 才有答案），同學可以額外使用 `test.csv` 進行模型預測後提交至 [Kaggle Titanic](https://www.kaggle.com/c/titanic/overview) 進行評分。"
   ]
  },
  {
   "cell_type": "markdown",
   "metadata": {},
   "source": [
    "## 評分標準\n",
    "\n",
    "如果有參考Kaggle上的程式碼或是其他作法卻沒有附上來源，則直接視為瓢竊，得分為0分。\n",
    "\n",
    "### 得分規則\n",
    "- 程式 (60%)，請於此檔案進行程式撰寫，完成後繳交此檔案\n",
    "\n",
    "|規則|滿足規則得分|\n",
    "|-|-|\n",
    "|使用決策樹及決策樹以外的模型進行實驗|+10|\n",
    "|使用 5-fold cross validation 輸出平均準確度|+10|\n",
    "|使用80%訓練資料訓練模型、以20%資料進行驗證，並輸出準確度|+10|\n",
    "|嘗試兩個以上的資料填補策略|+10|\n",
    "|在使用相同驗證集的情況下，嘗試使用不同比例資料訓練模型，並觀察結果|+10|\n",
    "|嘗試使用不同的特徵作為模型輸入 (例如：使用 `Sex` 與 `Age` 以外的特徵）|+10|\n",
    "\n",
    "- 報告 (40%)，請用 Microsoft Word 進行撰寫，完成後繳交 .docx 或 .pdf 檔案。\n",
    "\n",
    "|規則|滿足規則得分|\n",
    "|-|-|\n",
    "|描述資料分析內容 (例如：使用 `.describe()` 觀察資料)|+5|\n",
    "|描述選擇特定特徵輸入的理由 (例如：使用 `Sex` 與 `Age` 以外的特徵)|+5|\n",
    "|描述處理缺失值的方法與理由|+5|\n",
    "|描述轉換數值資料的方法與理由|+5|\n",
    "|描述轉換類別資料的方法與理由|+5|\n",
    "|以資料視覺化輔助資料分析並進行內容描述|+5|\n",
    "|說明使用的模型並解釋模型超參數的選擇理由|+10|"
   ]
  },
  {
   "cell_type": "code",
   "execution_count": null,
   "metadata": {},
   "outputs": [],
   "source": [
    "# 請勿更動此區塊程式碼\n",
    "\n",
    "import time\n",
    "import numpy as np\n",
    "import pandas as pd\n",
    "\n",
    "EXECUTION_START_TIME = time.time() # 計算執行時間\n",
    "\n",
    "df = pd.read_csv('train.csv')      # 讀取資料，請勿更改路徑"
   ]
  },
  {
   "cell_type": "markdown",
   "metadata": {},
   "source": [
    "## 資料前處理"
   ]
  },
  {
   "cell_type": "code",
   "execution_count": null,
   "metadata": {},
   "outputs": [],
   "source": [
    "# 資料分析與前處理\n",
    "\n",
    "train_x = df[['Sex', 'Age']]                   # 取出訓練資料需要分析的資料欄位\n",
    "train_y = df['Survived']                       # 取出訓練資料的答案\n",
    "\n",
    "from sklearn.impute import SimpleImputer       # 匯入填補缺失值的工具\n",
    "from sklearn.preprocessing import LabelEncoder # 匯入 Label Encoder\n",
    "\n",
    "imputer = SimpleImputer(strategy='median')     # 創造 imputer 並設定填補策略\n",
    "age = train_x['Age'].to_numpy().reshape(-1, 1)\n",
    "imputer.fit(age)                               # 根據資料學習需要填補的值\n",
    "train_x['Age'] = imputer.transform(age)        # 填補缺失值\n",
    "\n",
    "le = LabelEncoder()                            # 創造 Label Encoder\n",
    "le.fit(train_x['Sex'])                         # 給予每個類別一個數值\n",
    "train_x['Sex'] = le.transform(train_x['Sex'])  # 轉換所有類別成為數值"
   ]
  },
  {
   "cell_type": "markdown",
   "metadata": {},
   "source": [
    "## 模型訓練\n",
    "\n",
    "請在此區塊後使用**一個或多個區塊**進行模型訓練：\n",
    "\n",
    "- **選擇模型**\n",
    "    - 設定模型**超參數**\n",
    "    - **控制隨機亂數**\n",
    "- 計算**準確度（Accuracy）**\n",
    "    - 使用 **5-fold cross validation**，輸出**平均準確度**\n",
    "    - 使用 **80%訓練資料**訓練模型、以**20%資料**進行驗證，並輸出**準確度**"
   ]
  },
  {
   "cell_type": "code",
   "execution_count": null,
   "metadata": {},
   "outputs": [],
   "source": [
    "# 模型訓練\n",
    "\n",
    "from sklearn.model_selection import KFold             # 匯入 K 次交叉驗證工具\n",
    "from sklearn.tree import DecisionTreeClassifier       # 匯入決策樹模型\n",
    "from sklearn.metrics import accuracy_score            # 匯入準確度計算工具\n",
    "\n",
    "kf = KFold(n_splits=5,                                # 設定 K 值\n",
    "           random_state=1012,\n",
    "           shuffle=True)\n",
    "kf.get_n_splits(train_x)                              # 給予資料範圍\n",
    "\n",
    "train_acc_list = []                                   # 儲存每次訓練模型的準確度\n",
    "valid_acc_list = []                                   # 儲存每次驗證模型的準確度\n",
    "\n",
    "for train_index, valid_index in kf.split(train_x):    # 每個迴圈都會產生不同部份的資料\n",
    "    train_x_split = train_x.iloc[train_index]         # 產生訓練資料\n",
    "    train_y_split = train_y.iloc[train_index]         # 產生訓練資料標籤\n",
    "    valid_x_split = train_x.iloc[valid_index]         # 產生驗證資料\n",
    "    valid_y_split = train_y.iloc[valid_index]         # 產生驗證資料標籤\n",
    "    \n",
    "    model = DecisionTreeClassifier(random_state=1012) # 創造決策樹模型\n",
    "    model.fit(train_x_split, train_y_split)           # 訓練決策樹模型\n",
    "    \n",
    "    train_pred_y = model.predict(train_x_split)       # 確認模型是否訓練成功\n",
    "    train_acc = accuracy_score(train_y_split,         # 計算訓練資料準確度\n",
    "                               train_pred_y)\n",
    "    valid_pred_y = model.predict(valid_x_split)       # 驗證模型是否訓練成功\n",
    "    valid_acc = accuracy_score(valid_y_split,         # 計算驗證資料準確度\n",
    "                               valid_pred_y)\n",
    "    \n",
    "    train_acc_list.append(train_acc)\n",
    "    valid_acc_list.append(valid_acc)\n",
    "\n",
    "print((\n",
    "    'average train accuracy: {}\\n' +\n",
    "    '    min train accuracy: {}\\n' +\n",
    "    '    max train accuracy: {}\\n' +\n",
    "    'average valid accuracy: {}\\n' +\n",
    "    '    min valid accuracy: {}\\n' +\n",
    "    '    max valid accuracy: {}').format(\n",
    "    np.mean(train_acc_list),                          # 輸出平均訓練準確度\n",
    "    np.min(train_acc_list),                           # 輸出最低訓練準確度\n",
    "    np.max(train_acc_list),                           # 輸出最高訓練準確度\n",
    "    np.mean(valid_acc_list),                          # 輸出平均驗證準確度\n",
    "    np.min(valid_acc_list),                           # 輸出最低驗證準確度\n",
    "    np.max(valid_acc_list)                            # 輸出最高驗證準確度\n",
    "))"
   ]
  },
  {
   "cell_type": "markdown",
   "metadata": {},
   "source": [
    "## 額外練習\n",
    "\n",
    "請將訓練後的模型套用至 [Kaggle Titanic](https://www.kaggle.com/c/titanic/overview) `test.csv` 上，並上傳至 Kaggle 進行評分。"
   ]
  },
  {
   "cell_type": "code",
   "execution_count": null,
   "metadata": {},
   "outputs": [],
   "source": [
    "# 請勿更動此區塊程式碼\n",
    "\n",
    "EXECUTION_END_TIME = time.time() # 計算執行時間\n",
    "print('total execution time: {}'.format(EXECUTION_END_TIME - EXECUTION_START_TIME))"
   ]
  }
 ],
 "metadata": {
  "kernelspec": {
   "display_name": "Python 3.7.3 ('base')",
   "language": "python",
   "name": "python3"
  },
  "language_info": {
   "codemirror_mode": {
    "name": "ipython",
    "version": 3
   },
   "file_extension": ".py",
   "mimetype": "text/x-python",
   "name": "python",
   "nbconvert_exporter": "python",
   "pygments_lexer": "ipython3",
   "version": "3.7.3"
  },
  "vscode": {
   "interpreter": {
    "hash": "e3991f9d58ae25a0f7c0a4c580d759a5b6638a10f5c2460cc935f835bce089bc"
   }
  }
 },
 "nbformat": 4,
 "nbformat_minor": 4
}
